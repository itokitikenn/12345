import math
Sosuu = [2]
kazu = 2
print(2)
while kazu < 100000:
  kazu2 = 0
  kazu = kazu + 1
  furagu = 0
  while kazu2 < math.ceil(len(Sosuu) / 2) and furagu < 1:
    if kazu % Sosuu[ kazu2 ] == 0:
        furagu = 1
    kazu2=kazu2 + 1
  if furagu == 0:
      Sosuu.append(kazu)
      print(kazu)
