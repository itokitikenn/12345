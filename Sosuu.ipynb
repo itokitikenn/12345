Sosuu = [2]
kazu = 2
print(2)
while kazu < 100000:
  kazu2 = 1
  kazu = kazu + 1
  furagu = 0
  while kazu2 < len(Sosuu) and furagu < 1:
    if kazu % Sosuu[ kazu2 - 1 ] == 0:
        furagu = 1
    kazu2=kazu2 + 1
  if furagu == 0:
      Sosuu.append(kazu)
      print(kazu)
